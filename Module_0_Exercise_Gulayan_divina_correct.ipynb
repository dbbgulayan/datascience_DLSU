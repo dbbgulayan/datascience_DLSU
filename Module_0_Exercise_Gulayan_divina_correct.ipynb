{
 "cells": [
  {
   "cell_type": "code",
   "execution_count": null,
   "metadata": {},
   "outputs": [],
   "source": [
    "## Python Basics Exercise\n",
    "This exercise is designed to test your skills on basic Python programming, `numpy` and `pandas`.\n",
    "\n",
    "Place your answers within the code blocks that have the comment.\n",
    "\n",
    "```python\n",
    "# your code here\n",
    "```\n",
    "\n",
    "Make sure to remove or comment the line below to be able to proceed. It's only placed there as a reminder that the function has not yet been implemented.\n",
    "```python\n",
    "raise NotImplementedError\n",
    "```\n",
    "\n",
    "## Note on \"test scripts\"\n",
    "\n",
    "The code bloock following the function definition are \"unit tests\" which are code blocks which test if the function you implemented is correct or not. It will not print an output **if the conditions are met** (meaning the answer is correct). The current output for \"Exercise 1\" shows an example of when the code is correct and there's no errors, while the output for \"Exercise 2\" shows an example of what it would look like if something is incorrect.\n",
    "\n",
    "---"
   ]
  },
  {
   "cell_type": "code",
   "execution_count": null,
   "metadata": {},
   "outputs": [],
   "source": [
    "\n"
   ]
  },
  {
   "cell_type": "markdown",
   "metadata": {},
   "source": [
    "**Exercise 1.** Create a function that generates a list containing values from 0 to n-1. **(1 pt.)**"
   ]
  },
  {
   "cell_type": "code",
   "execution_count": 75,
   "metadata": {},
   "outputs": [],
   "source": [
    "def exercise_1(n):\n",
    "    # your code here.\n",
    "    myList = []\n",
    "    for i in range(n):\n",
    "        myList.append(i)\n",
    "    \n",
    "    print (myList)\n",
    "    return myList"
   ]
  },
  {
   "cell_type": "code",
   "execution_count": 76,
   "metadata": {},
   "outputs": [
    {
     "name": "stdout",
     "output_type": "stream",
     "text": [
      "[0, 1, 2, 3, 4]\n",
      "[0, 1, 2, 3, 4, 5, 6, 7, 8, 9, 10, 11, 12, 13, 14, 15, 16, 17, 18, 19, 20, 21, 22, 23, 24]\n"
     ]
    }
   ],
   "source": [
    "# these are test scripts\n",
    "ans = exercise_1(5)\n",
    "assert ans==[0, 1, 2, 3, 4]\n",
    "\n",
    "ans = exercise_1(25)\n",
    "assert ans==[0, 1, 2, 3, 4, 5, 6, 7, 8, 9, 10, 11, 12, 13, 14, 15, 16, 17, 18, 19, 20, 21, 22, 23, 24]"
   ]
  },
  {
   "cell_type": "markdown",
   "metadata": {},
   "source": [
    "**Exercise 2.** Create a function that turns the list into a numpy array **(1 pt.)**"
   ]
  },
  {
   "cell_type": "code",
   "execution_count": 77,
   "metadata": {},
   "outputs": [],
   "source": [
    "import numpy as np\n",
    "def exercise_2(x):\n",
    "    myList = np.array(x)\n",
    "    \n",
    "    print(myList)\n",
    "    return myList"
   ]
  },
  {
   "cell_type": "code",
   "execution_count": 78,
   "metadata": {},
   "outputs": [
    {
     "name": "stdout",
     "output_type": "stream",
     "text": [
      "[0 1 2 3 4]\n",
      "[0, 1, 2, 3, 4]\n",
      "[0 1 2 3 4]\n",
      "[0, 1, 2, 3, 4, 5, 6, 7, 8, 9, 10, 11, 12, 13, 14, 15, 16, 17, 18, 19, 20, 21, 22, 23, 24]\n",
      "[ 0  1  2  3  4  5  6  7  8  9 10 11 12 13 14 15 16 17 18 19 20 21 22 23\n",
      " 24]\n"
     ]
    }
   ],
   "source": [
    "ans = exercise_2([0, 1, 2, 3, 4])\n",
    "assert (ans==np.arange(5)).sum()==5\n",
    "\n",
    "ans = exercise_2(exercise_1(5))\n",
    "assert (ans==np.arange(5)).sum()==5\n",
    "\n",
    "ans = exercise_2(exercise_1(25))\n",
    "assert (ans==np.arange(25)).sum()==25"
   ]
  },
  {
   "cell_type": "markdown",
   "metadata": {},
   "source": [
    "**Exercise 3.** Create a function that accepts 2 parameters: \n",
    " - nums - a list of integer\n",
    " - n - a single integer number\n",
    " \n",
    "The function adds n to all the numbers in nums.\n",
    "\n",
    "**(1 pt.)**"
   ]
  },
  {
   "cell_type": "code",
   "execution_count": 81,
   "metadata": {},
   "outputs": [],
   "source": [
    "def exercise_3(nums, n):\n",
    "    myList = []\n",
    "    for number in nums:\n",
    "        myList.append(number+n)\n",
    "        \n",
    "    print(myList)    \n",
    "    return myList"
   ]
  },
  {
   "cell_type": "code",
   "execution_count": 82,
   "metadata": {},
   "outputs": [
    {
     "name": "stdout",
     "output_type": "stream",
     "text": [
      "[20, 21, 22, 23, 24]\n",
      "[60, 61, 62]\n"
     ]
    }
   ],
   "source": [
    "ans = exercise_3([0, 1, 2, 3, 4], 20)\n",
    "assert (ans==np.arange(20, 25)).sum()==5\n",
    "\n",
    "ans = exercise_3([0, 1, 2], 60)\n",
    "assert (ans==np.arange(60, 63)).sum()==3"
   ]
  },
  {
   "cell_type": "markdown",
   "metadata": {},
   "source": [
    "**Exercise 4.** Create a function that accepts a list of numbers as input and returns the first number that has a lower than the number preceding it. If there is none, return `None`.\n",
    "\n",
    "**(2 pts.)**"
   ]
  },
  {
   "cell_type": "code",
   "execution_count": 83,
   "metadata": {},
   "outputs": [],
   "source": [
    "def exercise_4(x):\n",
    "    for i in range(1,len(x)):\n",
    "        if (x[i] < x[i-1]):\n",
    "            print(x[i])\n",
    "            return x[i]\n",
    "    print(None)\n",
    "    return None\n",
    "        "
   ]
  },
  {
   "cell_type": "code",
   "execution_count": 84,
   "metadata": {},
   "outputs": [
    {
     "name": "stdout",
     "output_type": "stream",
     "text": [
      "None\n",
      "0.4\n",
      "-10\n"
     ]
    }
   ],
   "source": [
    "ans = exercise_4([0.79, 4, 11.8, 99])\n",
    "assert ans==None\n",
    "\n",
    "ans = exercise_4([0.79, 4, 11.8, 99, 0.4, 76, 55, 66])\n",
    "assert ans==0.4\n",
    "\n",
    "ans = exercise_4([0.79, 4, 4, 11.0, 11, -10, -11, 12])\n",
    "assert ans==-10"
   ]
  },
  {
   "cell_type": "markdown",
   "metadata": {},
   "source": [
    "**Exercise 5.** Create a function that returns a list of prime factors of a number.\n",
    "\n",
    "**(2 pts.)**"
   ]
  },
  {
   "cell_type": "code",
   "execution_count": 85,
   "metadata": {},
   "outputs": [],
   "source": [
    "def exercise_5(n):\n",
    "    # create a list to store the prime factors\n",
    "    prime_factors = []\n",
    "    # start with the lowest possible prime factor\n",
    "    divisor = 2\n",
    "    \n",
    "    while (n >= divisor * divisor):\n",
    "        # as long as n is still divisble by our current divisor, continue dividing\n",
    "        while (n % divisor == 0):\n",
    "            # if the divisor is not yet in our list, add it\n",
    "            if divisor not in prime_factors:\n",
    "                prime_factors.append(divisor)\n",
    "            # divide n by our divisor then continue looking for the prime factors of the new n\n",
    "            n = n / divisor\n",
    "        # if n is no longer divisible by our divisor then move on to next number\n",
    "        divisor = divisor + 1\n",
    "    \n",
    "    # if we can no longer find a factor for n then n must also be a prime\n",
    "    if (n != 1) and (n not in prime_factors):\n",
    "        prime_factors.append(n)\n",
    "    \n",
    "    print(prime_factors)\n",
    "    return prime_factors"
   ]
  },
  {
   "cell_type": "code",
   "execution_count": 86,
   "metadata": {},
   "outputs": [
    {
     "name": "stdout",
     "output_type": "stream",
     "text": [
      "[]\n",
      "[2]\n",
      "[5, 11, 23.0]\n",
      "[2, 11, 167.0]\n"
     ]
    }
   ],
   "source": [
    "ans = exercise_5(1)\n",
    "assert ans==[]\n",
    "\n",
    "ans = exercise_5(4)\n",
    "assert ans==[2]\n",
    "\n",
    "ans = exercise_5(1265)\n",
    "assert ans==[5, 11, 23]\n",
    "\n",
    "ans = exercise_5(3674)\n",
    "assert ans==[2, 11, 167]"
   ]
  },
  {
   "cell_type": "markdown",
   "metadata": {},
   "source": [
    "**Exercise 6.** Create a function that has 3 parameters: list of integers (num), integer number (n1), and another integer number (n2). The function will return a list of integers that are multiples of either n1 or n2.\n",
    "\n",
    "**(2 pts.)**"
   ]
  },
  {
   "cell_type": "code",
   "execution_count": 87,
   "metadata": {},
   "outputs": [],
   "source": [
    "def exercise_6(num, n1, n2):\n",
    "    myList = []\n",
    "    for i in num:\n",
    "        if ((i % n1 == 0 or i % n2 == 0) and i != 0):\n",
    "            myList.append(i)\n",
    "    print(myList)\n",
    "    return myList\n",
    "            "
   ]
  },
  {
   "cell_type": "code",
   "execution_count": 88,
   "metadata": {},
   "outputs": [
    {
     "name": "stdout",
     "output_type": "stream",
     "text": [
      "[3, 4, 6, 8, 9, 12, 15, 16, 18]\n",
      "[3, 4, 6, 8, 9, 12, 15, 16, 18]\n",
      "[17, 27, 34, 51, 54, 68, 81, 85, 102, 108, 119, 135, 136, 153, 162, 170, 187, 189, 204, 216, 221, 238, 243, 255, 270, 272, 289, 297]\n"
     ]
    }
   ],
   "source": [
    "ans = exercise_6(np.arange(20), 3, 4)\n",
    "print(ans)\n",
    "assert ans==[3, 4, 6, 8, 9, 12, 15, 16, 18]\n",
    "\n",
    "ans = exercise_6(np.arange(300), 17, 27)\n",
    "assert ans==[17, 27, 34, 51, 54, 68, 81, 85, 102, 108, 119, 135, 136, 153, 162, 170, 187, 189, 204, 216, 221, 238, 243, 255, 270, 272, 289, 297]"
   ]
  },
  {
   "cell_type": "markdown",
   "metadata": {},
   "source": [
    "**Exercise 7.** Create a function that reads the Titanic dataset (`data/train.csv`) and returns the ages (in list form) of first 5 (based on index) female passengers who survived .\n",
    "\n",
    "**(2 pts.)**"
   ]
  },
  {
   "cell_type": "code",
   "execution_count": 89,
   "metadata": {},
   "outputs": [],
   "source": [
    "import pandas as pd\n",
    "\n",
    "def exercise_7():\n",
    "    # your code here.\n",
    "    # open the file\n",
    "    train = pd.read_csv(r\"data/train.csv\")\n",
    "    # using panda, get the rows from the train.csv file where the value of Sex column is 'female' and Survived is '1'\n",
    "    # get the top 5 rows using head()\n",
    "    female_survivors = train[(train.Sex == 'female') & (train.Survived == 1)].head()\n",
    "    # from the table of female survivors, get the values stored in the age column\n",
    "    ages = female_survivors.Age.tolist()\n",
    "    \n",
    "    print(ages)\n",
    "    return ages\n",
    "            \n",
    "    \n",
    "    "
   ]
  },
  {
   "cell_type": "code",
   "execution_count": 90,
   "metadata": {},
   "outputs": [
    {
     "name": "stdout",
     "output_type": "stream",
     "text": [
      "[38.0, 26.0, 35.0, 27.0, 14.0]\n"
     ]
    }
   ],
   "source": [
    "assert exercise_7()==[38, 26, 35, 27, 14]"
   ]
  },
  {
   "cell_type": "markdown",
   "metadata": {},
   "source": [
    "**Exercise 8.** Create a function that reads the Titanic dataset (`data/train.csv`) and returns the average fare of all female passengers who survived and have an age greater than 30. Format the result by rounding up to 2 decimal values. Make sure the data type is float.\n",
    "\n",
    "**(2 pts.)**"
   ]
  },
  {
   "cell_type": "code",
   "execution_count": 91,
   "metadata": {},
   "outputs": [],
   "source": [
    "def exercise_8():\n",
    "    # your code here.\n",
    "    train = pd.read_csv(r\"data/train.csv\")\n",
    "    # using panda, get the rows from the train.csv file where the value of Sex column is 'female', Survived is '1', and Age > 30\n",
    "    female_survivors = train[(train.Sex == 'female') & (train.Survived == 1) & (train.Age > 30)]\n",
    "    # get the list of fares from the female survivors table\n",
    "    fares = female_survivors.Fare.tolist()\n",
    "    # get the average fare by getting the sum of the fares in the list and dividing it by the number of fares\n",
    "    # the sum(list) function is a pre-defined function in python that gets the sum of the items in the list\n",
    "    # the len() function returns the number of items in a list\n",
    "    average = sum(fares)/len(fares)\n",
    "    # round up the average to 2 decimal places by calling the round(x,y) where x is the number you want to round up and y is the number of decimal places\n",
    "    average = round(average,2)\n",
    "    print(average)\n",
    "    return average"
   ]
  },
  {
   "cell_type": "code",
   "execution_count": 92,
   "metadata": {},
   "outputs": [
    {
     "name": "stdout",
     "output_type": "stream",
     "text": [
      "71.16\n"
     ]
    }
   ],
   "source": [
    "assert exercise_8()==71.16"
   ]
  },
  {
   "cell_type": "code",
   "execution_count": null,
   "metadata": {},
   "outputs": [],
   "source": []
  }
 ],
 "metadata": {
  "kernelspec": {
   "display_name": "Python 3",
   "language": "python",
   "name": "python3"
  },
  "language_info": {
   "codemirror_mode": {
    "name": "ipython",
    "version": 3
   },
   "file_extension": ".py",
   "mimetype": "text/x-python",
   "name": "python",
   "nbconvert_exporter": "python",
   "pygments_lexer": "ipython3",
   "version": "3.8.3"
  }
 },
 "nbformat": 4,
 "nbformat_minor": 4
}
